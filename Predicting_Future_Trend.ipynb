{
 "cells": [
  {
   "cell_type": "code",
   "execution_count": 2,
   "id": "f91eb4e9",
   "metadata": {},
   "outputs": [],
   "source": [
    "#yahoo finance as data source\n",
    "#pip install yfinance\n",
    "import yfinance as yf"
   ]
  },
  {
   "cell_type": "code",
   "execution_count": 46,
   "id": "ee00f18c",
   "metadata": {},
   "outputs": [],
   "source": [
    "#See the yahoo finance ticker for your stock symbol\n",
    "stock_symbol = 'AXISBANK.NS'"
   ]
  },
  {
   "cell_type": "code",
   "execution_count": 47,
   "id": "d365868a",
   "metadata": {},
   "outputs": [
    {
     "name": "stdout",
     "output_type": "stream",
     "text": [
      "[*********************100%***********************]  1 of 1 completed\n"
     ]
    }
   ],
   "source": [
    "#last 5 years data with interval of 1 day\n",
    "data = yf.download(tickers=stock_symbol,period='10y',interval='1d')"
   ]
  },
  {
   "cell_type": "code",
   "execution_count": 48,
   "id": "9f82e205",
   "metadata": {},
   "outputs": [
    {
     "data": {
      "text/plain": [
       "pandas.core.frame.DataFrame"
      ]
     },
     "execution_count": 48,
     "metadata": {},
     "output_type": "execute_result"
    }
   ],
   "source": [
    "type(data)"
   ]
  },
  {
   "cell_type": "code",
   "execution_count": 49,
   "id": "dbbe3e6b",
   "metadata": {},
   "outputs": [
    {
     "data": {
      "text/html": [
       "<div>\n",
       "<style scoped>\n",
       "    .dataframe tbody tr th:only-of-type {\n",
       "        vertical-align: middle;\n",
       "    }\n",
       "\n",
       "    .dataframe tbody tr th {\n",
       "        vertical-align: top;\n",
       "    }\n",
       "\n",
       "    .dataframe thead th {\n",
       "        text-align: right;\n",
       "    }\n",
       "</style>\n",
       "<table border=\"1\" class=\"dataframe\">\n",
       "  <thead>\n",
       "    <tr style=\"text-align: right;\">\n",
       "      <th></th>\n",
       "      <th>Open</th>\n",
       "      <th>High</th>\n",
       "      <th>Low</th>\n",
       "      <th>Close</th>\n",
       "      <th>Adj Close</th>\n",
       "      <th>Volume</th>\n",
       "    </tr>\n",
       "    <tr>\n",
       "      <th>Date</th>\n",
       "      <th></th>\n",
       "      <th></th>\n",
       "      <th></th>\n",
       "      <th></th>\n",
       "      <th></th>\n",
       "      <th></th>\n",
       "    </tr>\n",
       "  </thead>\n",
       "  <tbody>\n",
       "    <tr>\n",
       "      <th>2011-12-07</th>\n",
       "      <td>206.600006</td>\n",
       "      <td>210.490005</td>\n",
       "      <td>205.889999</td>\n",
       "      <td>207.910004</td>\n",
       "      <td>194.152725</td>\n",
       "      <td>9369965</td>\n",
       "    </tr>\n",
       "    <tr>\n",
       "      <th>2011-12-08</th>\n",
       "      <td>207.000000</td>\n",
       "      <td>208.389999</td>\n",
       "      <td>199.000000</td>\n",
       "      <td>200.679993</td>\n",
       "      <td>187.401123</td>\n",
       "      <td>11616210</td>\n",
       "    </tr>\n",
       "    <tr>\n",
       "      <th>2011-12-09</th>\n",
       "      <td>196.270004</td>\n",
       "      <td>202.580002</td>\n",
       "      <td>195.639999</td>\n",
       "      <td>198.380005</td>\n",
       "      <td>185.253326</td>\n",
       "      <td>10877715</td>\n",
       "    </tr>\n",
       "    <tr>\n",
       "      <th>2011-12-12</th>\n",
       "      <td>201.000000</td>\n",
       "      <td>201.600006</td>\n",
       "      <td>193.449997</td>\n",
       "      <td>194.080002</td>\n",
       "      <td>181.237854</td>\n",
       "      <td>7581910</td>\n",
       "    </tr>\n",
       "    <tr>\n",
       "      <th>2011-12-13</th>\n",
       "      <td>192.399994</td>\n",
       "      <td>194.800003</td>\n",
       "      <td>188.070007</td>\n",
       "      <td>191.979996</td>\n",
       "      <td>179.276810</td>\n",
       "      <td>12728320</td>\n",
       "    </tr>\n",
       "  </tbody>\n",
       "</table>\n",
       "</div>"
      ],
      "text/plain": [
       "                  Open        High         Low       Close   Adj Close  \\\n",
       "Date                                                                     \n",
       "2011-12-07  206.600006  210.490005  205.889999  207.910004  194.152725   \n",
       "2011-12-08  207.000000  208.389999  199.000000  200.679993  187.401123   \n",
       "2011-12-09  196.270004  202.580002  195.639999  198.380005  185.253326   \n",
       "2011-12-12  201.000000  201.600006  193.449997  194.080002  181.237854   \n",
       "2011-12-13  192.399994  194.800003  188.070007  191.979996  179.276810   \n",
       "\n",
       "              Volume  \n",
       "Date                  \n",
       "2011-12-07   9369965  \n",
       "2011-12-08  11616210  \n",
       "2011-12-09  10877715  \n",
       "2011-12-12   7581910  \n",
       "2011-12-13  12728320  "
      ]
     },
     "execution_count": 49,
     "metadata": {},
     "output_type": "execute_result"
    }
   ],
   "source": [
    "data.head()"
   ]
  },
  {
   "cell_type": "code",
   "execution_count": 50,
   "id": "9d445949",
   "metadata": {},
   "outputs": [
    {
     "data": {
      "text/plain": [
       "2465"
      ]
     },
     "execution_count": 50,
     "metadata": {},
     "output_type": "execute_result"
    }
   ],
   "source": [
    "len(data)"
   ]
  },
  {
   "cell_type": "code",
   "execution_count": 51,
   "id": "bf283ad5",
   "metadata": {},
   "outputs": [
    {
     "data": {
      "text/html": [
       "<div>\n",
       "<style scoped>\n",
       "    .dataframe tbody tr th:only-of-type {\n",
       "        vertical-align: middle;\n",
       "    }\n",
       "\n",
       "    .dataframe tbody tr th {\n",
       "        vertical-align: top;\n",
       "    }\n",
       "\n",
       "    .dataframe thead th {\n",
       "        text-align: right;\n",
       "    }\n",
       "</style>\n",
       "<table border=\"1\" class=\"dataframe\">\n",
       "  <thead>\n",
       "    <tr style=\"text-align: right;\">\n",
       "      <th></th>\n",
       "      <th>Open</th>\n",
       "      <th>High</th>\n",
       "      <th>Low</th>\n",
       "      <th>Close</th>\n",
       "      <th>Adj Close</th>\n",
       "      <th>Volume</th>\n",
       "    </tr>\n",
       "    <tr>\n",
       "      <th>Date</th>\n",
       "      <th></th>\n",
       "      <th></th>\n",
       "      <th></th>\n",
       "      <th></th>\n",
       "      <th></th>\n",
       "      <th></th>\n",
       "    </tr>\n",
       "  </thead>\n",
       "  <tbody>\n",
       "    <tr>\n",
       "      <th>2021-12-01</th>\n",
       "      <td>664.900024</td>\n",
       "      <td>681.400024</td>\n",
       "      <td>660.000000</td>\n",
       "      <td>679.599976</td>\n",
       "      <td>679.599976</td>\n",
       "      <td>16184200</td>\n",
       "    </tr>\n",
       "    <tr>\n",
       "      <th>2021-12-02</th>\n",
       "      <td>675.000000</td>\n",
       "      <td>678.799988</td>\n",
       "      <td>668.049988</td>\n",
       "      <td>676.099976</td>\n",
       "      <td>676.099976</td>\n",
       "      <td>8612601</td>\n",
       "    </tr>\n",
       "    <tr>\n",
       "      <th>2021-12-03</th>\n",
       "      <td>679.099976</td>\n",
       "      <td>687.349976</td>\n",
       "      <td>671.000000</td>\n",
       "      <td>673.000000</td>\n",
       "      <td>673.000000</td>\n",
       "      <td>9505985</td>\n",
       "    </tr>\n",
       "    <tr>\n",
       "      <th>2021-12-06</th>\n",
       "      <td>674.000000</td>\n",
       "      <td>678.750000</td>\n",
       "      <td>661.150024</td>\n",
       "      <td>663.099976</td>\n",
       "      <td>663.099976</td>\n",
       "      <td>8022785</td>\n",
       "    </tr>\n",
       "    <tr>\n",
       "      <th>2021-12-07</th>\n",
       "      <td>672.000000</td>\n",
       "      <td>691.549988</td>\n",
       "      <td>670.000000</td>\n",
       "      <td>687.000000</td>\n",
       "      <td>687.000000</td>\n",
       "      <td>15121917</td>\n",
       "    </tr>\n",
       "  </tbody>\n",
       "</table>\n",
       "</div>"
      ],
      "text/plain": [
       "                  Open        High         Low       Close   Adj Close  \\\n",
       "Date                                                                     \n",
       "2021-12-01  664.900024  681.400024  660.000000  679.599976  679.599976   \n",
       "2021-12-02  675.000000  678.799988  668.049988  676.099976  676.099976   \n",
       "2021-12-03  679.099976  687.349976  671.000000  673.000000  673.000000   \n",
       "2021-12-06  674.000000  678.750000  661.150024  663.099976  663.099976   \n",
       "2021-12-07  672.000000  691.549988  670.000000  687.000000  687.000000   \n",
       "\n",
       "              Volume  \n",
       "Date                  \n",
       "2021-12-01  16184200  \n",
       "2021-12-02   8612601  \n",
       "2021-12-03   9505985  \n",
       "2021-12-06   8022785  \n",
       "2021-12-07  15121917  "
      ]
     },
     "execution_count": 51,
     "metadata": {},
     "output_type": "execute_result"
    }
   ],
   "source": [
    "data.tail()"
   ]
  },
  {
   "cell_type": "code",
   "execution_count": 52,
   "id": "6292e20a",
   "metadata": {},
   "outputs": [],
   "source": [
    "opn = data[['Open']]"
   ]
  },
  {
   "cell_type": "code",
   "execution_count": 53,
   "id": "21e132d8",
   "metadata": {},
   "outputs": [
    {
     "data": {
      "text/plain": [
       "<AxesSubplot:xlabel='Date'>"
      ]
     },
     "execution_count": 53,
     "metadata": {},
     "output_type": "execute_result"
    },
    {
     "data": {
      "image/png": "[encoded data removed]",
      "text/plain": [
       "<Figure size 432x288 with 1 Axes>"
      ]
     },
     "metadata": {
      "needs_background": "light"
     },
     "output_type": "display_data"
    }
   ],
   "source": [
    "opn.plot()"
   ]
  },
  {
   "cell_type": "code",
   "execution_count": 54,
   "id": "c5194440",
   "metadata": {},
   "outputs": [],
   "source": [
    "import matplotlib.pyplot as plt"
   ]
  },
  {
   "cell_type": "code",
   "execution_count": 55,
   "id": "8038cb6a",
   "metadata": {},
   "outputs": [],
   "source": [
    "ds = opn.values"
   ]
  },
  {
   "cell_type": "code",
   "execution_count": 56,
   "id": "69b08672",
   "metadata": {},
   "outputs": [
    {
     "data": {
      "text/plain": [
       "array([[206.6000061 ],\n",
       "       [207.        ],\n",
       "       [196.27000427],\n",
       "       ...,\n",
       "       [679.09997559],\n",
       "       [674.        ],\n",
       "       [672.        ]])"
      ]
     },
     "execution_count": 56,
     "metadata": {},
     "output_type": "execute_result"
    }
   ],
   "source": [
    "ds"
   ]
  },
  {
   "cell_type": "code",
   "execution_count": 57,
   "id": "af022e3c",
   "metadata": {},
   "outputs": [
    {
     "data": {
      "text/plain": [
       "[<matplotlib.lines.Line2D at 0x23ff3f70580>]"
      ]
     },
     "execution_count": 57,
     "metadata": {},
     "output_type": "execute_result"
    },
    {
     "data": {
      "image/png": "[encoded data removed]",
      "text/plain": [
       "<Figure size 432x288 with 1 Axes>"
      ]
     },
     "metadata": {
      "needs_background": "light"
     },
     "output_type": "display_data"
    }
   ],
   "source": [
    "plt.plot(ds)"
   ]
  },
  {
   "cell_type": "code",
   "execution_count": 58,
   "id": "0e73b789",
   "metadata": {},
   "outputs": [],
   "source": [
    "import numpy as np"
   ]
  },
  {
   "cell_type": "code",
   "execution_count": 59,
   "id": "0e6c1c22",
   "metadata": {},
   "outputs": [],
   "source": [
    "from sklearn.preprocessing import MinMaxScaler"
   ]
  },
  {
   "cell_type": "code",
   "execution_count": 60,
   "id": "cf6a3e1b",
   "metadata": {},
   "outputs": [],
   "source": [
    "#Using MinMaxScaler for normalizing data between 0 & 1\n",
    "normalizer = MinMaxScaler(feature_range=(0,1))\n",
    "ds_scaled = normalizer.fit_transform(np.array(ds).reshape(-1,1))\n"
   ]
  },
  {
   "cell_type": "code",
   "execution_count": 61,
   "id": "7dbea1d5",
   "metadata": {},
   "outputs": [
    {
     "data": {
      "text/plain": [
       "(2465, 2465)"
      ]
     },
     "execution_count": 61,
     "metadata": {},
     "output_type": "execute_result"
    }
   ],
   "source": [
    "len(ds_scaled), len(ds)"
   ]
  },
  {
   "cell_type": "code",
   "execution_count": 62,
   "id": "a20c5654",
   "metadata": {},
   "outputs": [],
   "source": [
    "#Defining test and train data sizes\n",
    "train_size = int(len(ds_scaled)*0.70)\n",
    "test_size = len(ds_scaled) - train_size"
   ]
  },
  {
   "cell_type": "code",
   "execution_count": 63,
   "id": "b964aa4e",
   "metadata": {},
   "outputs": [
    {
     "data": {
      "text/plain": [
       "(1725, 740)"
      ]
     },
     "execution_count": 63,
     "metadata": {},
     "output_type": "execute_result"
    }
   ],
   "source": [
    "train_size,test_size"
   ]
  },
  {
   "cell_type": "code",
   "execution_count": 64,
   "id": "25ca615e",
   "metadata": {},
   "outputs": [],
   "source": [
    "#Splitting data between train and test\n",
    "ds_train, ds_test = ds_scaled[0:train_size,:], ds_scaled[train_size:len(ds_scaled),:1]"
   ]
  },
  {
   "cell_type": "code",
   "execution_count": 65,
   "id": "95913f28",
   "metadata": {},
   "outputs": [
    {
     "data": {
      "text/plain": [
       "(1725, 740)"
      ]
     },
     "execution_count": 65,
     "metadata": {},
     "output_type": "execute_result"
    }
   ],
   "source": [
    "len(ds_train),len(ds_test)"
   ]
  },
  {
   "cell_type": "code",
   "execution_count": 66,
   "id": "5dd0b45e",
   "metadata": {},
   "outputs": [],
   "source": [
    "#creating dataset in time series for LSTM model \n",
    "#X[100,120,140,160,180] : Y[200]\n",
    "def create_ds(dataset,step):\n",
    "    Xtrain, Ytrain = [], []\n",
    "    for i in range(len(dataset)-step-1):\n",
    "        a = dataset[i:(i+step), 0]\n",
    "        Xtrain.append(a)\n",
    "        Ytrain.append(dataset[i + step, 0])\n",
    "    return np.array(Xtrain), np.array(Ytrain)"
   ]
  },
  {
   "cell_type": "code",
   "execution_count": 67,
   "id": "d28b7d1d",
   "metadata": {},
   "outputs": [],
   "source": [
    "#Taking 100 days price as one record for training\n",
    "time_stamp = 100\n",
    "X_train, y_train = create_ds(ds_train,time_stamp)\n",
    "X_test, y_test = create_ds(ds_test,time_stamp)"
   ]
  },
  {
   "cell_type": "code",
   "execution_count": 68,
   "id": "03ce9096",
   "metadata": {},
   "outputs": [
    {
     "data": {
      "text/plain": [
       "((1624, 100), (1624,))"
      ]
     },
     "execution_count": 68,
     "metadata": {},
     "output_type": "execute_result"
    }
   ],
   "source": [
    "X_train.shape,y_train.shape"
   ]
  },
  {
   "cell_type": "code",
   "execution_count": 69,
   "id": "84acdd72",
   "metadata": {},
   "outputs": [
    {
     "data": {
      "text/plain": [
       "((639, 100), (639,))"
      ]
     },
     "execution_count": 69,
     "metadata": {},
     "output_type": "execute_result"
    }
   ],
   "source": [
    "X_test.shape, y_test.shape"
   ]
  },
  {
   "cell_type": "code",
   "execution_count": 70,
   "id": "c657d193",
   "metadata": {},
   "outputs": [],
   "source": [
    "#Reshaping data to fit into LSTM model\n",
    "X_train = X_train.reshape(X_train.shape[0],X_train.shape[1] , 1)\n",
    "X_test = X_test.reshape(X_test.shape[0],X_test.shape[1] , 1)"
   ]
  },
  {
   "cell_type": "code",
   "execution_count": 71,
   "id": "82844671",
   "metadata": {},
   "outputs": [],
   "source": [
    "from keras.models import Sequential,load_model\n",
    "from keras.layers import Dense, LSTM"
   ]
  },
  {
   "cell_type": "code",
   "execution_count": 72,
   "id": "b5250913",
   "metadata": {},
   "outputs": [
    {
     "name": "stdout",
     "output_type": "stream",
     "text": [
      "Model: \"sequential_1\"\n",
      "_________________________________________________________________\n",
      " Layer (type)                Output Shape              Param #   \n",
      "=================================================================\n",
      " lstm_3 (LSTM)               (None, 100, 50)           10400     \n",
      "                                                                 \n",
      " lstm_4 (LSTM)               (None, 100, 50)           20200     \n",
      "                                                                 \n",
      " lstm_5 (LSTM)               (None, 50)                20200     \n",
      "                                                                 \n",
      " dense_1 (Dense)             (None, 1)                 51        \n",
      "                                                                 \n",
      "=================================================================\n",
      "Total params: 50,851\n",
      "Trainable params: 50,851\n",
      "Non-trainable params: 0\n",
      "_________________________________________________________________\n"
     ]
    }
   ],
   "source": [
    "#Creating LSTM model using keras\n",
    "model = Sequential()\n",
    "model.add(LSTM(units=50,return_sequences=True,input_shape=(X_train.shape[1],1)))\n",
    "model.add(LSTM(units=50,return_sequences=True))\n",
    "model.add(LSTM(units=50))\n",
    "model.add(Dense(units=1,activation='linear'))\n",
    "model.summary()"
   ]
  },
  {
   "cell_type": "code",
   "execution_count": 73,
   "id": "7e8ff062",
   "metadata": {
    "scrolled": true
   },
   "outputs": [
    {
     "name": "stdout",
     "output_type": "stream",
     "text": [
      "Epoch 1/100\n",
      "26/26 [==============================] - 10s 205ms/step - loss: 0.0229 - val_loss: 0.0075\n",
      "Epoch 2/100\n",
      "26/26 [==============================] - 4s 162ms/step - loss: 0.0021 - val_loss: 0.0054\n",
      "Epoch 3/100\n",
      "26/26 [==============================] - 4s 173ms/step - loss: 0.0012 - val_loss: 0.0055\n",
      "Epoch 4/100\n",
      "26/26 [==============================] - 4s 168ms/step - loss: 0.0012 - val_loss: 0.0050\n",
      "Epoch 5/100\n",
      "26/26 [==============================] - 5s 199ms/step - loss: 0.0011 - val_loss: 0.0048\n",
      "Epoch 6/100\n",
      "26/26 [==============================] - 5s 179ms/step - loss: 0.0011 - val_loss: 0.0051\n",
      "Epoch 7/100\n",
      "26/26 [==============================] - 4s 173ms/step - loss: 0.0011 - val_loss: 0.0050\n",
      "Epoch 8/100\n",
      "26/26 [==============================] - 4s 167ms/step - loss: 0.0010 - val_loss: 0.0043\n",
      "Epoch 9/100\n",
      "26/26 [==============================] - 4s 161ms/step - loss: 0.0010 - val_loss: 0.0053\n",
      "Epoch 10/100\n",
      "26/26 [==============================] - 4s 163ms/step - loss: 0.0011 - val_loss: 0.0049\n",
      "Epoch 11/100\n",
      "26/26 [==============================] - 5s 177ms/step - loss: 9.5059e-04 - val_loss: 0.0049\n",
      "Epoch 12/100\n",
      "26/26 [==============================] - 4s 174ms/step - loss: 9.6464e-04 - val_loss: 0.0041\n",
      "Epoch 13/100\n",
      "26/26 [==============================] - 4s 168ms/step - loss: 8.8157e-04 - val_loss: 0.0036\n",
      "Epoch 14/100\n",
      "26/26 [==============================] - 4s 170ms/step - loss: 8.3835e-04 - val_loss: 0.0034\n",
      "Epoch 15/100\n",
      "26/26 [==============================] - 5s 174ms/step - loss: 9.0287e-04 - val_loss: 0.0031\n",
      "Epoch 16/100\n",
      "26/26 [==============================] - 4s 168ms/step - loss: 9.9128e-04 - val_loss: 0.0041\n",
      "Epoch 17/100\n",
      "26/26 [==============================] - 4s 167ms/step - loss: 8.6710e-04 - val_loss: 0.0029\n",
      "Epoch 18/100\n",
      "26/26 [==============================] - 5s 177ms/step - loss: 8.5347e-04 - val_loss: 0.0042\n",
      "Epoch 19/100\n",
      "26/26 [==============================] - 5s 190ms/step - loss: 7.5789e-04 - val_loss: 0.0040\n",
      "Epoch 20/100\n",
      "26/26 [==============================] - 5s 193ms/step - loss: 7.4893e-04 - val_loss: 0.0035\n",
      "Epoch 21/100\n",
      "26/26 [==============================] - 5s 188ms/step - loss: 7.4995e-04 - val_loss: 0.0038\n",
      "Epoch 22/100\n",
      "26/26 [==============================] - 5s 197ms/step - loss: 7.2793e-04 - val_loss: 0.0036\n",
      "Epoch 23/100\n",
      "26/26 [==============================] - 5s 185ms/step - loss: 7.2383e-04 - val_loss: 0.0027\n",
      "Epoch 24/100\n",
      "26/26 [==============================] - 4s 171ms/step - loss: 7.5431e-04 - val_loss: 0.0023\n",
      "Epoch 25/100\n",
      "26/26 [==============================] - 5s 187ms/step - loss: 7.1756e-04 - val_loss: 0.0027\n",
      "Epoch 26/100\n",
      "26/26 [==============================] - 4s 170ms/step - loss: 7.2886e-04 - val_loss: 0.0022\n",
      "Epoch 27/100\n",
      "26/26 [==============================] - 4s 172ms/step - loss: 6.9288e-04 - val_loss: 0.0024\n",
      "Epoch 28/100\n",
      "26/26 [==============================] - 5s 175ms/step - loss: 6.9446e-04 - val_loss: 0.0030\n",
      "Epoch 29/100\n",
      "26/26 [==============================] - 5s 174ms/step - loss: 6.7161e-04 - val_loss: 0.0022\n",
      "Epoch 30/100\n",
      "26/26 [==============================] - 4s 170ms/step - loss: 6.9048e-04 - val_loss: 0.0026\n",
      "Epoch 31/100\n",
      "26/26 [==============================] - 5s 177ms/step - loss: 6.7295e-04 - val_loss: 0.0025\n",
      "Epoch 32/100\n",
      "26/26 [==============================] - 5s 180ms/step - loss: 6.3525e-04 - val_loss: 0.0023\n",
      "Epoch 33/100\n",
      "26/26 [==============================] - 5s 181ms/step - loss: 6.3189e-04 - val_loss: 0.0020\n",
      "Epoch 34/100\n",
      "26/26 [==============================] - 4s 168ms/step - loss: 6.0094e-04 - val_loss: 0.0025\n",
      "Epoch 35/100\n",
      "26/26 [==============================] - 5s 176ms/step - loss: 6.0519e-04 - val_loss: 0.0019\n",
      "Epoch 36/100\n",
      "26/26 [==============================] - 5s 175ms/step - loss: 6.3165e-04 - val_loss: 0.0018\n",
      "Epoch 37/100\n",
      "26/26 [==============================] - 4s 170ms/step - loss: 6.4317e-04 - val_loss: 0.0018\n",
      "Epoch 38/100\n",
      "26/26 [==============================] - 5s 174ms/step - loss: 5.8983e-04 - val_loss: 0.0019\n",
      "Epoch 39/100\n",
      "26/26 [==============================] - 5s 178ms/step - loss: 5.9202e-04 - val_loss: 0.0017\n",
      "Epoch 40/100\n",
      "26/26 [==============================] - 4s 171ms/step - loss: 5.8888e-04 - val_loss: 0.0016\n",
      "Epoch 41/100\n",
      "26/26 [==============================] - 4s 174ms/step - loss: 5.7622e-04 - val_loss: 0.0020\n",
      "Epoch 42/100\n",
      "26/26 [==============================] - 5s 175ms/step - loss: 5.7310e-04 - val_loss: 0.0023\n",
      "Epoch 43/100\n",
      "26/26 [==============================] - 5s 175ms/step - loss: 5.7369e-04 - val_loss: 0.0018\n",
      "Epoch 44/100\n",
      "26/26 [==============================] - 4s 170ms/step - loss: 5.8956e-04 - val_loss: 0.0020\n",
      "Epoch 45/100\n",
      "26/26 [==============================] - 5s 187ms/step - loss: 5.2482e-04 - val_loss: 0.0015\n",
      "Epoch 46/100\n",
      "26/26 [==============================] - 5s 206ms/step - loss: 5.1299e-04 - val_loss: 0.0016\n",
      "Epoch 47/100\n",
      "26/26 [==============================] - 5s 186ms/step - loss: 5.4541e-04 - val_loss: 0.0013\n",
      "Epoch 48/100\n",
      "26/26 [==============================] - 5s 188ms/step - loss: 5.0969e-04 - val_loss: 0.0016\n",
      "Epoch 49/100\n",
      "26/26 [==============================] - 5s 191ms/step - loss: 5.2874e-04 - val_loss: 0.0013\n",
      "Epoch 50/100\n",
      "26/26 [==============================] - 5s 176ms/step - loss: 4.8412e-04 - val_loss: 0.0016\n",
      "Epoch 51/100\n",
      "26/26 [==============================] - 5s 176ms/step - loss: 5.3685e-04 - val_loss: 0.0012\n",
      "Epoch 52/100\n",
      "26/26 [==============================] - 5s 184ms/step - loss: 4.9764e-04 - val_loss: 0.0020\n",
      "Epoch 53/100\n",
      "26/26 [==============================] - 5s 180ms/step - loss: 5.5267e-04 - val_loss: 0.0015\n",
      "Epoch 54/100\n",
      "26/26 [==============================] - 4s 172ms/step - loss: 4.9253e-04 - val_loss: 0.0018\n",
      "Epoch 55/100\n",
      "26/26 [==============================] - 4s 173ms/step - loss: 4.8034e-04 - val_loss: 0.0013\n",
      "Epoch 56/100\n",
      "26/26 [==============================] - 5s 177ms/step - loss: 4.3163e-04 - val_loss: 0.0010\n",
      "Epoch 57/100\n",
      "26/26 [==============================] - 4s 171ms/step - loss: 4.4246e-04 - val_loss: 0.0012\n",
      "Epoch 58/100\n",
      "26/26 [==============================] - 5s 192ms/step - loss: 4.4726e-04 - val_loss: 0.0016\n",
      "Epoch 59/100\n",
      "26/26 [==============================] - 5s 195ms/step - loss: 4.4314e-04 - val_loss: 9.9754e-04\n",
      "Epoch 60/100\n",
      "26/26 [==============================] - 5s 184ms/step - loss: 4.5986e-04 - val_loss: 0.0010\n",
      "Epoch 61/100\n",
      "26/26 [==============================] - 4s 172ms/step - loss: 4.0328e-04 - val_loss: 0.0017\n",
      "Epoch 62/100\n",
      "26/26 [==============================] - 4s 173ms/step - loss: 3.9241e-04 - val_loss: 0.0010\n",
      "Epoch 63/100\n",
      "26/26 [==============================] - 5s 181ms/step - loss: 3.8708e-04 - val_loss: 0.0010\n",
      "Epoch 64/100\n",
      "26/26 [==============================] - 5s 176ms/step - loss: 4.2006e-04 - val_loss: 0.0014\n",
      "Epoch 65/100\n",
      "26/26 [==============================] - 4s 170ms/step - loss: 3.6933e-04 - val_loss: 8.6621e-04\n",
      "Epoch 66/100\n",
      "26/26 [==============================] - 5s 175ms/step - loss: 4.5866e-04 - val_loss: 0.0017\n",
      "Epoch 67/100\n",
      "26/26 [==============================] - 5s 177ms/step - loss: 3.9679e-04 - val_loss: 8.6181e-04\n",
      "Epoch 68/100\n",
      "26/26 [==============================] - 4s 171ms/step - loss: 3.4323e-04 - val_loss: 9.0748e-04\n",
      "Epoch 69/100\n",
      "26/26 [==============================] - 4s 172ms/step - loss: 3.8964e-04 - val_loss: 0.0011\n",
      "Epoch 70/100\n",
      "26/26 [==============================] - 5s 182ms/step - loss: 3.2193e-04 - val_loss: 9.9232e-04\n",
      "Epoch 71/100\n",
      "26/26 [==============================] - 5s 188ms/step - loss: 3.4341e-04 - val_loss: 9.6016e-04\n",
      "Epoch 72/100\n",
      "26/26 [==============================] - 5s 191ms/step - loss: 3.1540e-04 - val_loss: 8.5922e-04\n",
      "Epoch 73/100\n",
      "26/26 [==============================] - 5s 192ms/step - loss: 3.1003e-04 - val_loss: 8.0826e-04\n",
      "Epoch 74/100\n",
      "26/26 [==============================] - 5s 195ms/step - loss: 3.2455e-04 - val_loss: 7.2426e-04\n",
      "Epoch 75/100\n",
      "26/26 [==============================] - 5s 185ms/step - loss: 3.1447e-04 - val_loss: 7.4051e-04\n",
      "Epoch 76/100\n",
      "26/26 [==============================] - 5s 174ms/step - loss: 3.2094e-04 - val_loss: 9.4668e-04\n",
      "Epoch 77/100\n",
      "26/26 [==============================] - 5s 184ms/step - loss: 3.0249e-04 - val_loss: 6.7921e-04\n",
      "Epoch 78/100\n"
     ]
    },
    {
     "name": "stdout",
     "output_type": "stream",
     "text": [
      "26/26 [==============================] - 4s 171ms/step - loss: 2.7483e-04 - val_loss: 9.3329e-04\n",
      "Epoch 79/100\n",
      "26/26 [==============================] - 4s 173ms/step - loss: 2.7593e-04 - val_loss: 9.1398e-04\n",
      "Epoch 80/100\n",
      "26/26 [==============================] - 5s 176ms/step - loss: 2.6899e-04 - val_loss: 8.6209e-04\n",
      "Epoch 81/100\n",
      "26/26 [==============================] - 4s 170ms/step - loss: 2.6964e-04 - val_loss: 6.3172e-04\n",
      "Epoch 82/100\n",
      "26/26 [==============================] - 4s 170ms/step - loss: 2.4773e-04 - val_loss: 7.7524e-04\n",
      "Epoch 83/100\n",
      "26/26 [==============================] - 5s 191ms/step - loss: 2.5169e-04 - val_loss: 6.0374e-04\n",
      "Epoch 84/100\n",
      "26/26 [==============================] - 5s 177ms/step - loss: 2.5867e-04 - val_loss: 0.0010\n",
      "Epoch 85/100\n",
      "26/26 [==============================] - 4s 171ms/step - loss: 2.6525e-04 - val_loss: 7.9901e-04\n",
      "Epoch 86/100\n",
      "26/26 [==============================] - 4s 170ms/step - loss: 2.6581e-04 - val_loss: 9.7895e-04\n",
      "Epoch 87/100\n",
      "26/26 [==============================] - 5s 178ms/step - loss: 3.0372e-04 - val_loss: 0.0010\n",
      "Epoch 88/100\n",
      "26/26 [==============================] - 5s 175ms/step - loss: 2.4074e-04 - val_loss: 6.8751e-04\n",
      "Epoch 89/100\n",
      "26/26 [==============================] - 5s 177ms/step - loss: 2.8766e-04 - val_loss: 5.9052e-04\n",
      "Epoch 90/100\n",
      "26/26 [==============================] - 5s 175ms/step - loss: 2.2625e-04 - val_loss: 5.7451e-04\n",
      "Epoch 91/100\n",
      "26/26 [==============================] - 5s 174ms/step - loss: 2.4695e-04 - val_loss: 6.1919e-04\n",
      "Epoch 92/100\n",
      "26/26 [==============================] - 4s 169ms/step - loss: 2.5084e-04 - val_loss: 5.8497e-04\n",
      "Epoch 93/100\n",
      "26/26 [==============================] - 4s 171ms/step - loss: 2.3895e-04 - val_loss: 6.0104e-04\n",
      "Epoch 94/100\n",
      "26/26 [==============================] - 5s 174ms/step - loss: 2.4452e-04 - val_loss: 8.2405e-04\n",
      "Epoch 95/100\n",
      "26/26 [==============================] - 5s 174ms/step - loss: 2.2191e-04 - val_loss: 5.3378e-04\n",
      "Epoch 96/100\n",
      "26/26 [==============================] - 4s 171ms/step - loss: 2.2375e-04 - val_loss: 6.1165e-04\n",
      "Epoch 97/100\n",
      "26/26 [==============================] - 5s 192ms/step - loss: 2.2777e-04 - val_loss: 5.9906e-04\n",
      "Epoch 98/100\n",
      "26/26 [==============================] - 5s 208ms/step - loss: 2.1193e-04 - val_loss: 6.3550e-04\n",
      "Epoch 99/100\n",
      "26/26 [==============================] - 5s 186ms/step - loss: 2.2440e-04 - val_loss: 9.4124e-04\n",
      "Epoch 100/100\n",
      "26/26 [==============================] - 5s 188ms/step - loss: 2.5856e-04 - val_loss: 5.1686e-04\n"
     ]
    },
    {
     "data": {
      "text/plain": [
       "<keras.callbacks.History at 0x23ff5201310>"
      ]
     },
     "execution_count": 73,
     "metadata": {},
     "output_type": "execute_result"
    }
   ],
   "source": [
    "#Training model with adam optimizer and mean squared error loss function\n",
    "model.compile(loss='mean_squared_error',optimizer='adam')\n",
    "model.fit(X_train,y_train,validation_data=(X_test,y_test),epochs=100,batch_size=64)"
   ]
  },
  {
   "cell_type": "code",
   "execution_count": 80,
   "id": "0a6d5c92",
   "metadata": {},
   "outputs": [],
   "source": [
    "model.save(\"AXISBANK.h5\")"
   ]
  },
  {
   "cell_type": "code",
   "execution_count": 81,
   "id": "58f82943",
   "metadata": {},
   "outputs": [],
   "source": [
    " model=load_model('AXISBANK.h5')"
   ]
  },
  {
   "cell_type": "code",
   "execution_count": 82,
   "id": "18b1ba6a",
   "metadata": {},
   "outputs": [
    {
     "ename": "AttributeError",
     "evalue": "'NoneType' object has no attribute 'history'",
     "output_type": "error",
     "traceback": [
      "\u001b[1;31m---------------------------------------------------------------------------\u001b[0m",
      "\u001b[1;31mAttributeError\u001b[0m                            Traceback (most recent call last)",
      "\u001b[1;32m<ipython-input-82-19f9b5acce29>\u001b[0m in \u001b[0;36m<module>\u001b[1;34m\u001b[0m\n\u001b[0;32m      1\u001b[0m \u001b[1;31m#PLotting loss, it shows that loss has decreased significantly and model trained well\u001b[0m\u001b[1;33m\u001b[0m\u001b[1;33m\u001b[0m\u001b[1;33m\u001b[0m\u001b[0m\n\u001b[1;32m----> 2\u001b[1;33m \u001b[0mloss\u001b[0m \u001b[1;33m=\u001b[0m \u001b[0mmodel\u001b[0m\u001b[1;33m.\u001b[0m\u001b[0mhistory\u001b[0m\u001b[1;33m.\u001b[0m\u001b[0mhistory\u001b[0m\u001b[1;33m[\u001b[0m\u001b[1;34m'loss'\u001b[0m\u001b[1;33m]\u001b[0m\u001b[1;33m\u001b[0m\u001b[1;33m\u001b[0m\u001b[0m\n\u001b[0m\u001b[0;32m      3\u001b[0m \u001b[0mplt\u001b[0m\u001b[1;33m.\u001b[0m\u001b[0mplot\u001b[0m\u001b[1;33m(\u001b[0m\u001b[0mloss\u001b[0m\u001b[1;33m)\u001b[0m\u001b[1;33m\u001b[0m\u001b[1;33m\u001b[0m\u001b[0m\n",
      "\u001b[1;31mAttributeError\u001b[0m: 'NoneType' object has no attribute 'history'"
     ]
    }
   ],
   "source": [
    "#PLotting loss, it shows that loss has decreased significantly and model trained well\n",
    "loss = model.history.history['loss']\n",
    "plt.plot(loss)"
   ]
  },
  {
   "cell_type": "code",
   "execution_count": 83,
   "id": "3e7f2fc8",
   "metadata": {},
   "outputs": [],
   "source": [
    "#Predicitng on train and test data\n",
    "train_predict = model.predict(X_train)\n",
    "test_predict = model.predict(X_test)"
   ]
  },
  {
   "cell_type": "code",
   "execution_count": 84,
   "id": "c2d6c2d5",
   "metadata": {},
   "outputs": [],
   "source": [
    "#Inverse transform to get actual value\n",
    "train_predict = normalizer.inverse_transform(train_predict)\n",
    "test_predict = normalizer.inverse_transform(test_predict)"
   ]
  },
  {
   "cell_type": "code",
   "execution_count": 85,
   "id": "9d0543ad",
   "metadata": {},
   "outputs": [
    {
     "data": {
      "text/plain": [
       "[<matplotlib.lines.Line2D at 0x23ffd1c0fd0>]"
      ]
     },
     "execution_count": 85,
     "metadata": {},
     "output_type": "execute_result"
    },
    {
     "data": {
      "image/png": "[encoded data removed]",
      "text/plain": [
       "<Figure size 432x288 with 1 Axes>"
      ]
     },
     "metadata": {
      "needs_background": "light"
     },
     "output_type": "display_data"
    }
   ],
   "source": [
    "#Comparing using visuals\n",
    "plt.plot(normalizer.inverse_transform(ds_scaled))\n",
    "plt.plot(train_predict)\n",
    "plt.plot(test_predict)"
   ]
  },
  {
   "cell_type": "code",
   "execution_count": 86,
   "id": "55300bae",
   "metadata": {},
   "outputs": [
    {
     "data": {
      "text/plain": [
       "numpy.ndarray"
      ]
     },
     "execution_count": 86,
     "metadata": {},
     "output_type": "execute_result"
    }
   ],
   "source": [
    "type(train_predict)"
   ]
  },
  {
   "cell_type": "code",
   "execution_count": 87,
   "id": "bf6d5613",
   "metadata": {},
   "outputs": [],
   "source": [
    "test = np.vstack((train_predict,test_predict))"
   ]
  },
  {
   "cell_type": "code",
   "execution_count": 88,
   "id": "41b272ff",
   "metadata": {
    "scrolled": true
   },
   "outputs": [
    {
     "data": {
      "text/plain": [
       "[<matplotlib.lines.Line2D at 0x23ffd0e0a60>]"
      ]
     },
     "execution_count": 88,
     "metadata": {},
     "output_type": "execute_result"
    },
    {
     "data": {
      "image/png": "[encoded data removed]",
      "text/plain": [
       "<Figure size 432x288 with 1 Axes>"
      ]
     },
     "metadata": {
      "needs_background": "light"
     },
     "output_type": "display_data"
    }
   ],
   "source": [
    "#Combining the predited data to create uniform data visualization\n",
    "plt.plot(normalizer.inverse_transform(ds_scaled))\n",
    "plt.plot(test)"
   ]
  },
  {
   "cell_type": "code",
   "execution_count": 89,
   "id": "16af9283",
   "metadata": {},
   "outputs": [
    {
     "data": {
      "text/plain": [
       "740"
      ]
     },
     "execution_count": 89,
     "metadata": {},
     "output_type": "execute_result"
    }
   ],
   "source": [
    "len(ds_test)"
   ]
  },
  {
   "cell_type": "code",
   "execution_count": 90,
   "id": "c13df7b8",
   "metadata": {},
   "outputs": [],
   "source": [
    "#Getting the last 100 days records\n",
    "fut_inp = ds_test[640:]"
   ]
  },
  {
   "cell_type": "code",
   "execution_count": 91,
   "id": "52b30579",
   "metadata": {},
   "outputs": [],
   "source": [
    "fut_inp = fut_inp.reshape(1,-1)"
   ]
  },
  {
   "cell_type": "code",
   "execution_count": 92,
   "id": "ac2686a6",
   "metadata": {},
   "outputs": [],
   "source": [
    "tmp_inp = list(fut_inp)"
   ]
  },
  {
   "cell_type": "code",
   "execution_count": 93,
   "id": "dad5024f",
   "metadata": {},
   "outputs": [
    {
     "data": {
      "text/plain": [
       "(1, 100)"
      ]
     },
     "execution_count": 93,
     "metadata": {},
     "output_type": "execute_result"
    }
   ],
   "source": [
    "fut_inp.shape"
   ]
  },
  {
   "cell_type": "code",
   "execution_count": 94,
   "id": "98042a30",
   "metadata": {},
   "outputs": [],
   "source": [
    "#Creating list of the last 100 data\n",
    "tmp_inp = tmp_inp[0].tolist()"
   ]
  },
  {
   "cell_type": "code",
   "execution_count": 95,
   "id": "44799d02",
   "metadata": {},
   "outputs": [
    {
     "name": "stdout",
     "output_type": "stream",
     "text": [
      "[[0.7533177733421326], [0.7610630393028259], [0.7682313919067383], [0.7751015424728394], [0.7818323373794556], [0.7884288430213928], [0.7948563098907471], [0.8010829091072083], [0.8070865869522095], [0.8128529787063599], [0.8183751106262207], [0.8236521482467651], [0.8286895751953125], [0.8334991335868835], [0.8380958437919617], [0.8424985408782959], [0.8467277884483337], [0.8508049249649048], [0.85475093126297], [0.858585774898529], [0.8623272180557251], [0.8659910559654236], [0.869590163230896], [0.8731353878974915], [0.8766345977783203], [0.8800936937332153], [0.8835159540176392], [0.8869026899337769], [0.8902539610862732], [0.8935684561729431], [0.8968437910079956], [0.9000765681266785], [0.9032633900642395], [0.9064005613327026], [0.9094842076301575], [0.912510871887207], [0.9154770970344543], [0.9183796048164368], [0.9212164878845215], [0.9239851236343384], [0.9266843199729919], [0.9293127059936523], [0.9318695664405823], [0.9343547821044922], [0.9367688298225403], [0.9391123056411743], [0.9413859248161316], [0.9435907602310181], [0.9457281827926636], [0.9477992653846741], [0.949806272983551], [0.9517503380775452], [0.953633189201355], [0.9554566144943237], [0.9572222232818604], [0.9589318633079529], [0.9605867266654968], [0.9621886014938354], [0.9637389779090881], [0.9652392864227295], [0.9666908383369446], [0.9680948853492737], [0.969452977180481], [0.9707661867141724], [0.9720355868339539], [0.9732624292373657], [0.9744478464126587], [0.9755931496620178], [0.97669917345047], [0.9777669906616211], [0.9787978529930115], [0.9797924160957336], [0.9807522892951965], [0.9816781878471375], [0.9825711846351624], [0.9834319949150085], [0.9842617511749268], [0.9850612282752991], [0.9858319759368896], [0.9865743517875671], [0.9872896075248718], [0.9879783987998962], [0.9886416792869568], [0.9892804026603699], [0.9898953437805176], [0.9904873371124268], [0.9910574555397034], [0.9916059374809265], [0.9921336770057678], [0.9926415681838989], [0.9931304454803467], [0.9936009049415588], [0.9940535426139832], [0.9944888949394226], [0.9949079155921936], [0.9953106641769409], [0.9956980347633362], [0.9960706830024719], [0.9964288473129272], [0.9967733025550842]]\n"
     ]
    }
   ],
   "source": [
    "#Predicting next 30 days price suing the current data\n",
    "#It will predict in sliding window manner (algorithm) with stride 1\n",
    "lst_output=[]\n",
    "n_steps=100\n",
    "i=0\n",
    "while(i<100):\n",
    "    \n",
    "    if(len(tmp_inp)>100):\n",
    "        fut_inp = np.array(tmp_inp[1:])\n",
    "        fut_inp=fut_inp.reshape(1,-1)\n",
    "        fut_inp = fut_inp.reshape((1, n_steps, 1))\n",
    "        yhat = model.predict(fut_inp, verbose=0)\n",
    "        tmp_inp.extend(yhat[0].tolist())\n",
    "        tmp_inp = tmp_inp[1:]\n",
    "        lst_output.extend(yhat.tolist())\n",
    "        i=i+1\n",
    "    else:\n",
    "        fut_inp = fut_inp.reshape((1, n_steps,1))\n",
    "        yhat = model.predict(fut_inp, verbose=0)\n",
    "        tmp_inp.extend(yhat[0].tolist())\n",
    "        lst_output.extend(yhat.tolist())\n",
    "        i=i+1\n",
    "    \n",
    "\n",
    "print(lst_output)"
   ]
  },
  {
   "cell_type": "code",
   "execution_count": 96,
   "id": "d49a83e5",
   "metadata": {
    "scrolled": true
   },
   "outputs": [],
   "source": [
    "len(ds_scaled)\n",
    "ds_scaled\n",
    "# scaler.scale_\n",
    "new=np.arange(1,101,1)\n",
    "pred=np.arange(101,201,1)\n"
   ]
  },
  {
   "cell_type": "code",
   "execution_count": 97,
   "id": "29f84e31",
   "metadata": {},
   "outputs": [
    {
     "data": {
      "text/plain": [
       "[<matplotlib.lines.Line2D at 0x23ffd2ee700>]"
      ]
     },
     "execution_count": 97,
     "metadata": {},
     "output_type": "execute_result"
    },
    {
     "data": {
      "image/png": "[encoded data removed]",
      "text/plain": [
       "<Figure size 432x288 with 1 Axes>"
      ]
     },
     "metadata": {
      "needs_background": "light"
     },
     "output_type": "display_data"
    }
   ],
   "source": [
    "plt.plot(normalizer.inverse_transform(ds_scaled[1132:]))\n",
    "plt.plot(normalizer.inverse_transform(lst_output))"
   ]
  },
  {
   "cell_type": "code",
   "execution_count": 98,
   "id": "e41c9362",
   "metadata": {},
   "outputs": [],
   "source": [
    "ds_new = ds_scaled.tolist()"
   ]
  },
  {
   "cell_type": "code",
   "execution_count": 99,
   "id": "d6c8d3c1",
   "metadata": {},
   "outputs": [
    {
     "data": {
      "text/plain": [
       "2465"
      ]
     },
     "execution_count": 99,
     "metadata": {},
     "output_type": "execute_result"
    }
   ],
   "source": [
    "len(ds_new)"
   ]
  },
  {
   "cell_type": "code",
   "execution_count": 100,
   "id": "24e99607",
   "metadata": {},
   "outputs": [
    {
     "data": {
      "text/plain": [
       "[<matplotlib.lines.Line2D at 0x23ffd2fb2b0>]"
      ]
     },
     "execution_count": 100,
     "metadata": {},
     "output_type": "execute_result"
    },
    {
     "data": {
      "image/png": "[encoded data removed]",
      "text/plain": [
       "<Figure size 432x288 with 1 Axes>"
      ]
     },
     "metadata": {
      "needs_background": "light"
     },
     "output_type": "display_data"
    }
   ],
   "source": [
    "#Entends helps us to fill the missing value with approx value\n",
    "ds_new.extend(lst_output)\n",
    "plt.plot(ds_new[1200:])"
   ]
  },
  {
   "cell_type": "code",
   "execution_count": 101,
   "id": "7f04f058",
   "metadata": {},
   "outputs": [],
   "source": [
    "#Creating final data for plotting\n",
    "final_graph = normalizer.inverse_transform(ds_new).tolist()"
   ]
  },
  {
   "cell_type": "code",
   "execution_count": 102,
   "id": "2dfdef30",
   "metadata": {},
   "outputs": [
    {
     "data": {
      "text/plain": [
       "<matplotlib.legend.Legend at 0x23ffd1d24c0>"
      ]
     },
     "execution_count": 102,
     "metadata": {},
     "output_type": "execute_result"
    },
    {
     "data": {
      "image/png": "[encoded data removed]",
      "text/plain": [
       "<Figure size 432x288 with 1 Axes>"
      ]
     },
     "metadata": {
      "needs_background": "light"
     },
     "output_type": "display_data"
    }
   ],
   "source": [
    "#Plotting final results with predicted value after 30 Days\n",
    "plt.plot(final_graph,)\n",
    "plt.ylabel(\"Price\")\n",
    "plt.xlabel(\"Time\")\n",
    "plt.title(\"{0} prediction of next month open\".format(stock_symbol))\n",
    "plt.axhline(y=final_graph[len(final_graph)-1], color = 'red', linestyle = ':', label = 'NEXT 100D: {0}'.format(round(float(*final_graph[len(final_graph)-1]),2)))\n",
    "plt.legend()\n",
    "\n"
   ]
  },
  {
   "cell_type": "code",
   "execution_count": null,
   "id": "5af437eb",
   "metadata": {},
   "outputs": [],
   "source": []
  },
  {
   "cell_type": "code",
   "execution_count": null,
   "id": "8c7b2852",
   "metadata": {},
   "outputs": [],
   "source": []
  },
  {
   "cell_type": "code",
   "execution_count": null,
   "id": "758dc479",
   "metadata": {},
   "outputs": [],
   "source": []
  }
 ],
 "metadata": {
  "kernelspec": {
   "display_name": "Python 3",
   "language": "python",
   "name": "python3"
  },
  "language_info": {
   "codemirror_mode": {
    "name": "ipython",
    "version": 3
   },
   "file_extension": ".py",
   "mimetype": "text/x-python",
   "name": "python",
   "nbconvert_exporter": "python",
   "pygments_lexer": "ipython3",
   "version": "3.8.8"
  }
 },
 "nbformat": 4,
 "nbformat_minor": 5
}

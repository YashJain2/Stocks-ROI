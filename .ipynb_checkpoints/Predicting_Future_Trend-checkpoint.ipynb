{
 "cells": [
  {
   "cell_type": "code",
   "execution_count": 1,
   "id": "f91eb4e9",
   "metadata": {},
   "outputs": [],
   "source": [
    "#yahoo finance as data source\n",
    "#pip install yfinance\n",
    "import yfinance as yf"
   ]
  },
  {
   "cell_type": "code",
   "execution_count": 116,
   "id": "ee00f18c",
   "metadata": {},
   "outputs": [],
   "source": [
    "#See the yahoo finance ticker for your stock symbol\n",
    "stock_symbol = 'FEDERALBNK.NS'"
   ]
  },
  {
   "cell_type": "code",
   "execution_count": 117,
   "id": "d365868a",
   "metadata": {},
   "outputs": [
    {
     "name": "stdout",
     "output_type": "stream",
     "text": [
      "[*********************100%***********************]  1 of 1 completed\n"
     ]
    }
   ],
   "source": [
    "#last 5 years data with interval of 1 day\n",
    "data = yf.download(tickers=stock_symbol,period='10y',interval='1d')"
   ]
  },
  {
   "cell_type": "code",
   "execution_count": 118,
   "id": "9f82e205",
   "metadata": {},
   "outputs": [
    {
     "data": {
      "text/plain": [
       "pandas.core.frame.DataFrame"
      ]
     },
     "execution_count": 118,
     "metadata": {},
     "output_type": "execute_result"
    }
   ],
   "source": [
    "type(data)"
   ]
  },
  {
   "cell_type": "code",
   "execution_count": 119,
   "id": "dbbe3e6b",
   "metadata": {},
   "outputs": [
    {
     "data": {
      "text/html": [
       "<div>\n",
       "<style scoped>\n",
       "    .dataframe tbody tr th:only-of-type {\n",
       "        vertical-align: middle;\n",
       "    }\n",
       "\n",
       "    .dataframe tbody tr th {\n",
       "        vertical-align: top;\n",
       "    }\n",
       "\n",
       "    .dataframe thead th {\n",
       "        text-align: right;\n",
       "    }\n",
       "</style>\n",
       "<table border=\"1\" class=\"dataframe\">\n",
       "  <thead>\n",
       "    <tr style=\"text-align: right;\">\n",
       "      <th></th>\n",
       "      <th>Open</th>\n",
       "      <th>High</th>\n",
       "      <th>Low</th>\n",
       "      <th>Close</th>\n",
       "      <th>Adj Close</th>\n",
       "      <th>Volume</th>\n",
       "    </tr>\n",
       "    <tr>\n",
       "      <th>Date</th>\n",
       "      <th></th>\n",
       "      <th></th>\n",
       "      <th></th>\n",
       "      <th></th>\n",
       "      <th></th>\n",
       "      <th></th>\n",
       "    </tr>\n",
       "  </thead>\n",
       "  <tbody>\n",
       "    <tr>\n",
       "      <th>2011-12-07</th>\n",
       "      <td>39.799999</td>\n",
       "      <td>40.595001</td>\n",
       "      <td>39.235001</td>\n",
       "      <td>39.674999</td>\n",
       "      <td>34.960949</td>\n",
       "      <td>2610540</td>\n",
       "    </tr>\n",
       "    <tr>\n",
       "      <th>2011-12-08</th>\n",
       "      <td>39.470001</td>\n",
       "      <td>39.840000</td>\n",
       "      <td>38.564999</td>\n",
       "      <td>39.485001</td>\n",
       "      <td>34.793530</td>\n",
       "      <td>9279750</td>\n",
       "    </tr>\n",
       "    <tr>\n",
       "      <th>2011-12-09</th>\n",
       "      <td>38.200001</td>\n",
       "      <td>39.349998</td>\n",
       "      <td>38.200001</td>\n",
       "      <td>38.895000</td>\n",
       "      <td>34.273636</td>\n",
       "      <td>8822260</td>\n",
       "    </tr>\n",
       "    <tr>\n",
       "      <th>2011-12-12</th>\n",
       "      <td>39.000000</td>\n",
       "      <td>39.590000</td>\n",
       "      <td>38.105000</td>\n",
       "      <td>38.325001</td>\n",
       "      <td>33.771358</td>\n",
       "      <td>3991780</td>\n",
       "    </tr>\n",
       "    <tr>\n",
       "      <th>2011-12-13</th>\n",
       "      <td>37.994999</td>\n",
       "      <td>38.095001</td>\n",
       "      <td>37.320000</td>\n",
       "      <td>37.794998</td>\n",
       "      <td>33.304329</td>\n",
       "      <td>10609670</td>\n",
       "    </tr>\n",
       "  </tbody>\n",
       "</table>\n",
       "</div>"
      ],
      "text/plain": [
       "                 Open       High        Low      Close  Adj Close    Volume\n",
       "Date                                                                       \n",
       "2011-12-07  39.799999  40.595001  39.235001  39.674999  34.960949   2610540\n",
       "2011-12-08  39.470001  39.840000  38.564999  39.485001  34.793530   9279750\n",
       "2011-12-09  38.200001  39.349998  38.200001  38.895000  34.273636   8822260\n",
       "2011-12-12  39.000000  39.590000  38.105000  38.325001  33.771358   3991780\n",
       "2011-12-13  37.994999  38.095001  37.320000  37.794998  33.304329  10609670"
      ]
     },
     "execution_count": 119,
     "metadata": {},
     "output_type": "execute_result"
    }
   ],
   "source": [
    "data.head()"
   ]
  },
  {
   "cell_type": "code",
   "execution_count": 120,
   "id": "9d445949",
   "metadata": {},
   "outputs": [
    {
     "data": {
      "text/plain": [
       "2464"
      ]
     },
     "execution_count": 120,
     "metadata": {},
     "output_type": "execute_result"
    }
   ],
   "source": [
    "len(data)"
   ]
  },
  {
   "cell_type": "code",
   "execution_count": 121,
   "id": "bf283ad5",
   "metadata": {},
   "outputs": [
    {
     "data": {
      "text/html": [
       "<div>\n",
       "<style scoped>\n",
       "    .dataframe tbody tr th:only-of-type {\n",
       "        vertical-align: middle;\n",
       "    }\n",
       "\n",
       "    .dataframe tbody tr th {\n",
       "        vertical-align: top;\n",
       "    }\n",
       "\n",
       "    .dataframe thead th {\n",
       "        text-align: right;\n",
       "    }\n",
       "</style>\n",
       "<table border=\"1\" class=\"dataframe\">\n",
       "  <thead>\n",
       "    <tr style=\"text-align: right;\">\n",
       "      <th></th>\n",
       "      <th>Open</th>\n",
       "      <th>High</th>\n",
       "      <th>Low</th>\n",
       "      <th>Close</th>\n",
       "      <th>Adj Close</th>\n",
       "      <th>Volume</th>\n",
       "    </tr>\n",
       "    <tr>\n",
       "      <th>Date</th>\n",
       "      <th></th>\n",
       "      <th></th>\n",
       "      <th></th>\n",
       "      <th></th>\n",
       "      <th></th>\n",
       "      <th></th>\n",
       "    </tr>\n",
       "  </thead>\n",
       "  <tbody>\n",
       "    <tr>\n",
       "      <th>2021-11-30</th>\n",
       "      <td>87.500000</td>\n",
       "      <td>90.199997</td>\n",
       "      <td>86.250000</td>\n",
       "      <td>86.800003</td>\n",
       "      <td>86.800003</td>\n",
       "      <td>20266746</td>\n",
       "    </tr>\n",
       "    <tr>\n",
       "      <th>2021-12-01</th>\n",
       "      <td>87.500000</td>\n",
       "      <td>88.750000</td>\n",
       "      <td>87.099998</td>\n",
       "      <td>88.550003</td>\n",
       "      <td>88.550003</td>\n",
       "      <td>14539590</td>\n",
       "    </tr>\n",
       "    <tr>\n",
       "      <th>2021-12-02</th>\n",
       "      <td>88.500000</td>\n",
       "      <td>89.199997</td>\n",
       "      <td>87.500000</td>\n",
       "      <td>88.900002</td>\n",
       "      <td>88.900002</td>\n",
       "      <td>12932852</td>\n",
       "    </tr>\n",
       "    <tr>\n",
       "      <th>2021-12-03</th>\n",
       "      <td>89.099998</td>\n",
       "      <td>90.000000</td>\n",
       "      <td>88.800003</td>\n",
       "      <td>89.199997</td>\n",
       "      <td>89.199997</td>\n",
       "      <td>12453387</td>\n",
       "    </tr>\n",
       "    <tr>\n",
       "      <th>2021-12-06</th>\n",
       "      <td>89.349998</td>\n",
       "      <td>89.500000</td>\n",
       "      <td>88.000000</td>\n",
       "      <td>88.800003</td>\n",
       "      <td>88.800003</td>\n",
       "      <td>4037704</td>\n",
       "    </tr>\n",
       "  </tbody>\n",
       "</table>\n",
       "</div>"
      ],
      "text/plain": [
       "                 Open       High        Low      Close  Adj Close    Volume\n",
       "Date                                                                       \n",
       "2021-11-30  87.500000  90.199997  86.250000  86.800003  86.800003  20266746\n",
       "2021-12-01  87.500000  88.750000  87.099998  88.550003  88.550003  14539590\n",
       "2021-12-02  88.500000  89.199997  87.500000  88.900002  88.900002  12932852\n",
       "2021-12-03  89.099998  90.000000  88.800003  89.199997  89.199997  12453387\n",
       "2021-12-06  89.349998  89.500000  88.000000  88.800003  88.800003   4037704"
      ]
     },
     "execution_count": 121,
     "metadata": {},
     "output_type": "execute_result"
    }
   ],
   "source": [
    "data.tail()"
   ]
  },
  {
   "cell_type": "code",
   "execution_count": 122,
   "id": "6292e20a",
   "metadata": {},
   "outputs": [],
   "source": [
    "opn = data[['Open']]"
   ]
  },
  {
   "cell_type": "code",
   "execution_count": 123,
   "id": "21e132d8",
   "metadata": {},
   "outputs": [
    {
     "data": {
      "text/plain": [
       "<AxesSubplot:xlabel='Date'>"
      ]
     },
     "execution_count": 123,
     "metadata": {},
     "output_type": "execute_result"
    },
    {
     "data": {
      "image/png": "[encoded data removed]",
      "text/plain": [
       "<Figure size 432x288 with 1 Axes>"
      ]
     },
     "metadata": {
      "needs_background": "light"
     },
     "output_type": "display_data"
    }
   ],
   "source": [
    "opn.plot()"
   ]
  },
  {
   "cell_type": "code",
   "execution_count": 124,
   "id": "c5194440",
   "metadata": {},
   "outputs": [],
   "source": [
    "import matplotlib.pyplot as plt"
   ]
  },
  {
   "cell_type": "code",
   "execution_count": 125,
   "id": "8038cb6a",
   "metadata": {},
   "outputs": [],
   "source": [
    "ds = opn.values"
   ]
  },
  {
   "cell_type": "code",
   "execution_count": 126,
   "id": "69b08672",
   "metadata": {},
   "outputs": [
    {
     "data": {
      "text/plain": [
       "array([[39.79999924],\n",
       "       [39.47000122],\n",
       "       [38.20000076],\n",
       "       ...,\n",
       "       [88.5       ],\n",
       "       [89.09999847],\n",
       "       [89.34999847]])"
      ]
     },
     "execution_count": 126,
     "metadata": {},
     "output_type": "execute_result"
    }
   ],
   "source": [
    "ds"
   ]
  },
  {
   "cell_type": "code",
   "execution_count": 127,
   "id": "af022e3c",
   "metadata": {},
   "outputs": [
    {
     "data": {
      "text/plain": [
       "[<matplotlib.lines.Line2D at 0x274af6b3b20>]"
      ]
     },
     "execution_count": 127,
     "metadata": {},
     "output_type": "execute_result"
    },
    {
     "data": {
      "image/png": "[encoded data removed]",
      "text/plain": [
       "<Figure size 432x288 with 1 Axes>"
      ]
     },
     "metadata": {
      "needs_background": "light"
     },
     "output_type": "display_data"
    }
   ],
   "source": [
    "plt.plot(ds)"
   ]
  },
  {
   "cell_type": "code",
   "execution_count": 128,
   "id": "0e73b789",
   "metadata": {},
   "outputs": [],
   "source": [
    "import numpy as np"
   ]
  },
  {
   "cell_type": "code",
   "execution_count": 129,
   "id": "0e6c1c22",
   "metadata": {},
   "outputs": [],
   "source": [
    "from sklearn.preprocessing import MinMaxScaler"
   ]
  },
  {
   "cell_type": "code",
   "execution_count": 130,
   "id": "cf6a3e1b",
   "metadata": {},
   "outputs": [],
   "source": [
    "#Using MinMaxScaler for normalizing data between 0 & 1\n",
    "normalizer = MinMaxScaler(feature_range=(0,1))\n",
    "ds_scaled = normalizer.fit_transform(np.array(ds).reshape(-1,1))\n"
   ]
  },
  {
   "cell_type": "code",
   "execution_count": 131,
   "id": "7dbea1d5",
   "metadata": {},
   "outputs": [
    {
     "data": {
      "text/plain": [
       "(2464, 2464)"
      ]
     },
     "execution_count": 131,
     "metadata": {},
     "output_type": "execute_result"
    }
   ],
   "source": [
    "len(ds_scaled), len(ds)"
   ]
  },
  {
   "cell_type": "code",
   "execution_count": 132,
   "id": "a20c5654",
   "metadata": {},
   "outputs": [],
   "source": [
    "#Defining test and train data sizes\n",
    "train_size = int(len(ds_scaled)*0.70)\n",
    "test_size = len(ds_scaled) - train_size"
   ]
  },
  {
   "cell_type": "code",
   "execution_count": 133,
   "id": "b964aa4e",
   "metadata": {},
   "outputs": [
    {
     "data": {
      "text/plain": [
       "(1724, 740)"
      ]
     },
     "execution_count": 133,
     "metadata": {},
     "output_type": "execute_result"
    }
   ],
   "source": [
    "train_size,test_size"
   ]
  },
  {
   "cell_type": "code",
   "execution_count": 134,
   "id": "25ca615e",
   "metadata": {},
   "outputs": [],
   "source": [
    "#Splitting data between train and test\n",
    "ds_train, ds_test = ds_scaled[0:train_size,:], ds_scaled[train_size:len(ds_scaled),:1]"
   ]
  },
  {
   "cell_type": "code",
   "execution_count": 135,
   "id": "95913f28",
   "metadata": {},
   "outputs": [
    {
     "data": {
      "text/plain": [
       "(1724, 740)"
      ]
     },
     "execution_count": 135,
     "metadata": {},
     "output_type": "execute_result"
    }
   ],
   "source": [
    "len(ds_train),len(ds_test)"
   ]
  },
  {
   "cell_type": "code",
   "execution_count": 136,
   "id": "5dd0b45e",
   "metadata": {},
   "outputs": [],
   "source": [
    "#creating dataset in time series for LSTM model \n",
    "#X[100,120,140,160,180] : Y[200]\n",
    "def create_ds(dataset,step):\n",
    "    Xtrain, Ytrain = [], []\n",
    "    for i in range(len(dataset)-step-1):\n",
    "        a = dataset[i:(i+step), 0]\n",
    "        Xtrain.append(a)\n",
    "        Ytrain.append(dataset[i + step, 0])\n",
    "    return np.array(Xtrain), np.array(Ytrain)"
   ]
  },
  {
   "cell_type": "code",
   "execution_count": 137,
   "id": "d28b7d1d",
   "metadata": {},
   "outputs": [],
   "source": [
    "#Taking 100 days price as one record for training\n",
    "time_stamp = 100\n",
    "X_train, y_train = create_ds(ds_train,time_stamp)\n",
    "X_test, y_test = create_ds(ds_test,time_stamp)"
   ]
  },
  {
   "cell_type": "code",
   "execution_count": 138,
   "id": "03ce9096",
   "metadata": {},
   "outputs": [
    {
     "data": {
      "text/plain": [
       "((1623, 100), (1623,))"
      ]
     },
     "execution_count": 138,
     "metadata": {},
     "output_type": "execute_result"
    }
   ],
   "source": [
    "X_train.shape,y_train.shape"
   ]
  },
  {
   "cell_type": "code",
   "execution_count": 139,
   "id": "84acdd72",
   "metadata": {},
   "outputs": [
    {
     "data": {
      "text/plain": [
       "((639, 100), (639,))"
      ]
     },
     "execution_count": 139,
     "metadata": {},
     "output_type": "execute_result"
    }
   ],
   "source": [
    "X_test.shape, y_test.shape"
   ]
  },
  {
   "cell_type": "code",
   "execution_count": 140,
   "id": "c657d193",
   "metadata": {},
   "outputs": [],
   "source": [
    "#Reshaping data to fit into LSTM model\n",
    "X_train = X_train.reshape(X_train.shape[0],X_train.shape[1] , 1)\n",
    "X_test = X_test.reshape(X_test.shape[0],X_test.shape[1] , 1)"
   ]
  },
  {
   "cell_type": "code",
   "execution_count": 141,
   "id": "82844671",
   "metadata": {},
   "outputs": [],
   "source": [
    "from keras.models import Sequential\n",
    "from keras.layers import Dense, LSTM"
   ]
  },
  {
   "cell_type": "code",
   "execution_count": 142,
   "id": "b5250913",
   "metadata": {},
   "outputs": [
    {
     "name": "stdout",
     "output_type": "stream",
     "text": [
      "Model: \"sequential_2\"\n",
      "_________________________________________________________________\n",
      " Layer (type)                Output Shape              Param #   \n",
      "=================================================================\n",
      " lstm_6 (LSTM)               (None, 100, 50)           10400     \n",
      "                                                                 \n",
      " lstm_7 (LSTM)               (None, 100, 50)           20200     \n",
      "                                                                 \n",
      " lstm_8 (LSTM)               (None, 50)                20200     \n",
      "                                                                 \n",
      " dense_2 (Dense)             (None, 1)                 51        \n",
      "                                                                 \n",
      "=================================================================\n",
      "Total params: 50,851\n",
      "Trainable params: 50,851\n",
      "Non-trainable params: 0\n",
      "_________________________________________________________________\n"
     ]
    }
   ],
   "source": [
    "#Creating LSTM model using keras\n",
    "model = Sequential()\n",
    "model.add(LSTM(units=50,return_sequences=True,input_shape=(X_train.shape[1],1)))\n",
    "model.add(LSTM(units=50,return_sequences=True))\n",
    "model.add(LSTM(units=50))\n",
    "model.add(Dense(units=1,activation='linear'))\n",
    "model.summary()"
   ]
  },
  {
   "cell_type": "code",
   "execution_count": 143,
   "id": "7e8ff062",
   "metadata": {
    "scrolled": true
   },
   "outputs": [
    {
     "name": "stdout",
     "output_type": "stream",
     "text": [
      "Epoch 1/100\n",
      "26/26 [==============================] - 10s 200ms/step - loss: 0.0421 - val_loss: 0.0103\n",
      "Epoch 2/100\n",
      "26/26 [==============================] - 4s 161ms/step - loss: 0.0034 - val_loss: 0.0046\n",
      "Epoch 3/100\n",
      "26/26 [==============================] - 4s 159ms/step - loss: 0.0019 - val_loss: 0.0043\n",
      "Epoch 4/100\n",
      "26/26 [==============================] - 4s 167ms/step - loss: 0.0018 - val_loss: 0.0042\n",
      "Epoch 5/100\n",
      "26/26 [==============================] - 4s 161ms/step - loss: 0.0019 - val_loss: 0.0041\n",
      "Epoch 6/100\n",
      "26/26 [==============================] - 4s 158ms/step - loss: 0.0018 - val_loss: 0.0039\n",
      "Epoch 7/100\n",
      "26/26 [==============================] - 4s 161ms/step - loss: 0.0016 - val_loss: 0.0039\n",
      "Epoch 8/100\n",
      "26/26 [==============================] - 4s 162ms/step - loss: 0.0016 - val_loss: 0.0034\n",
      "Epoch 9/100\n",
      "26/26 [==============================] - 4s 161ms/step - loss: 0.0016 - val_loss: 0.0032\n",
      "Epoch 10/100\n",
      "26/26 [==============================] - 4s 160ms/step - loss: 0.0016 - val_loss: 0.0039\n",
      "Epoch 11/100\n",
      "26/26 [==============================] - 5s 181ms/step - loss: 0.0015 - val_loss: 0.0031\n",
      "Epoch 12/100\n",
      "26/26 [==============================] - 5s 183ms/step - loss: 0.0015 - val_loss: 0.0028\n",
      "Epoch 13/100\n",
      "26/26 [==============================] - 5s 206ms/step - loss: 0.0014 - val_loss: 0.0029\n",
      "Epoch 14/100\n",
      "26/26 [==============================] - 5s 179ms/step - loss: 0.0014 - val_loss: 0.0026\n",
      "Epoch 15/100\n",
      "26/26 [==============================] - 5s 181ms/step - loss: 0.0013 - val_loss: 0.0025\n",
      "Epoch 16/100\n",
      "26/26 [==============================] - 5s 178ms/step - loss: 0.0013 - val_loss: 0.0023\n",
      "Epoch 17/100\n",
      "26/26 [==============================] - 5s 179ms/step - loss: 0.0014 - val_loss: 0.0022\n",
      "Epoch 18/100\n",
      "26/26 [==============================] - 5s 178ms/step - loss: 0.0012 - val_loss: 0.0021\n",
      "Epoch 19/100\n",
      "26/26 [==============================] - 4s 171ms/step - loss: 0.0013 - val_loss: 0.0022\n",
      "Epoch 20/100\n",
      "26/26 [==============================] - 5s 175ms/step - loss: 0.0011 - val_loss: 0.0019\n",
      "Epoch 21/100\n",
      "26/26 [==============================] - 5s 183ms/step - loss: 0.0010 - val_loss: 0.0018\n",
      "Epoch 22/100\n",
      "26/26 [==============================] - 5s 174ms/step - loss: 9.9954e-04 - val_loss: 0.0017\n",
      "Epoch 23/100\n",
      "26/26 [==============================] - 4s 170ms/step - loss: 9.4779e-04 - val_loss: 0.0019\n",
      "Epoch 24/100\n",
      "26/26 [==============================] - 4s 169ms/step - loss: 0.0010 - val_loss: 0.0023\n",
      "Epoch 25/100\n",
      "26/26 [==============================] - 5s 178ms/step - loss: 0.0011 - val_loss: 0.0020\n",
      "Epoch 26/100\n",
      "26/26 [==============================] - 5s 186ms/step - loss: 8.7227e-04 - val_loss: 0.0019\n",
      "Epoch 27/100\n",
      "26/26 [==============================] - 4s 171ms/step - loss: 8.6428e-04 - val_loss: 0.0014\n",
      "Epoch 28/100\n",
      "26/26 [==============================] - 5s 181ms/step - loss: 7.7858e-04 - val_loss: 0.0014\n",
      "Epoch 29/100\n",
      "26/26 [==============================] - 5s 189ms/step - loss: 7.8954e-04 - val_loss: 0.0013\n",
      "Epoch 30/100\n",
      "26/26 [==============================] - 5s 179ms/step - loss: 8.1345e-04 - val_loss: 0.0021\n",
      "Epoch 31/100\n",
      "26/26 [==============================] - 4s 170ms/step - loss: 8.7186e-04 - val_loss: 0.0012\n",
      "Epoch 32/100\n",
      "26/26 [==============================] - 5s 177ms/step - loss: 7.2228e-04 - val_loss: 0.0012\n",
      "Epoch 33/100\n",
      "26/26 [==============================] - 4s 173ms/step - loss: 7.0127e-04 - val_loss: 0.0012\n",
      "Epoch 34/100\n",
      "26/26 [==============================] - 4s 172ms/step - loss: 6.8715e-04 - val_loss: 0.0011\n",
      "Epoch 35/100\n",
      "26/26 [==============================] - 4s 170ms/step - loss: 6.9344e-04 - val_loss: 0.0011\n",
      "Epoch 36/100\n",
      "26/26 [==============================] - 5s 177ms/step - loss: 6.9098e-04 - val_loss: 0.0011\n",
      "Epoch 37/100\n",
      "26/26 [==============================] - 4s 170ms/step - loss: 6.7733e-04 - val_loss: 0.0011\n",
      "Epoch 38/100\n",
      "26/26 [==============================] - 4s 170ms/step - loss: 7.2591e-04 - val_loss: 0.0011\n",
      "Epoch 39/100\n",
      "26/26 [==============================] - 5s 181ms/step - loss: 6.4296e-04 - val_loss: 0.0010\n",
      "Epoch 40/100\n",
      "26/26 [==============================] - 5s 175ms/step - loss: 6.5682e-04 - val_loss: 0.0011\n",
      "Epoch 41/100\n",
      "26/26 [==============================] - 5s 177ms/step - loss: 6.5214e-04 - val_loss: 0.0012\n",
      "Epoch 42/100\n",
      "26/26 [==============================] - 5s 186ms/step - loss: 6.7718e-04 - val_loss: 0.0011\n",
      "Epoch 43/100\n",
      "26/26 [==============================] - 5s 177ms/step - loss: 5.9003e-04 - val_loss: 9.4634e-04\n",
      "Epoch 44/100\n",
      "26/26 [==============================] - 5s 176ms/step - loss: 5.9401e-04 - val_loss: 9.5812e-04\n",
      "Epoch 45/100\n",
      "26/26 [==============================] - 4s 172ms/step - loss: 5.7918e-04 - val_loss: 0.0010\n",
      "Epoch 46/100\n",
      "26/26 [==============================] - 5s 177ms/step - loss: 6.1463e-04 - val_loss: 9.0416e-04\n",
      "Epoch 47/100\n",
      "26/26 [==============================] - 5s 174ms/step - loss: 6.1502e-04 - val_loss: 0.0011\n",
      "Epoch 48/100\n",
      "26/26 [==============================] - 4s 173ms/step - loss: 5.9975e-04 - val_loss: 8.9020e-04\n",
      "Epoch 49/100\n",
      "26/26 [==============================] - 4s 174ms/step - loss: 5.2992e-04 - val_loss: 8.7295e-04\n",
      "Epoch 50/100\n",
      "26/26 [==============================] - 5s 177ms/step - loss: 5.7544e-04 - val_loss: 9.4073e-04\n",
      "Epoch 51/100\n",
      "26/26 [==============================] - 4s 174ms/step - loss: 6.5847e-04 - val_loss: 0.0012\n",
      "Epoch 52/100\n",
      "26/26 [==============================] - 4s 170ms/step - loss: 5.5556e-04 - val_loss: 9.3735e-04\n",
      "Epoch 53/100\n",
      "26/26 [==============================] - 5s 177ms/step - loss: 5.1359e-04 - val_loss: 8.2629e-04\n",
      "Epoch 54/100\n",
      "26/26 [==============================] - 5s 174ms/step - loss: 5.0984e-04 - val_loss: 8.0206e-04\n",
      "Epoch 55/100\n",
      "26/26 [==============================] - 5s 184ms/step - loss: 5.7627e-04 - val_loss: 8.0352e-04\n",
      "Epoch 56/100\n",
      "26/26 [==============================] - 5s 185ms/step - loss: 4.9914e-04 - val_loss: 9.9062e-04\n",
      "Epoch 57/100\n",
      "26/26 [==============================] - 5s 191ms/step - loss: 4.9768e-04 - val_loss: 7.8100e-04\n",
      "Epoch 58/100\n",
      "26/26 [==============================] - 5s 204ms/step - loss: 6.3132e-04 - val_loss: 0.0012\n",
      "Epoch 59/100\n",
      "26/26 [==============================] - 5s 184ms/step - loss: 6.1495e-04 - val_loss: 8.0171e-04\n",
      "Epoch 60/100\n",
      "26/26 [==============================] - 5s 194ms/step - loss: 4.7059e-04 - val_loss: 7.8955e-04\n",
      "Epoch 61/100\n",
      "26/26 [==============================] - 5s 180ms/step - loss: 4.7455e-04 - val_loss: 7.9705e-04\n",
      "Epoch 62/100\n",
      "26/26 [==============================] - 4s 169ms/step - loss: 4.6742e-04 - val_loss: 0.0010\n",
      "Epoch 63/100\n",
      "26/26 [==============================] - 5s 188ms/step - loss: 4.9922e-04 - val_loss: 7.4160e-04\n",
      "Epoch 64/100\n",
      "26/26 [==============================] - 5s 203ms/step - loss: 4.8637e-04 - val_loss: 7.2614e-04\n",
      "Epoch 65/100\n",
      "26/26 [==============================] - 5s 206ms/step - loss: 4.7795e-04 - val_loss: 7.1322e-04\n",
      "Epoch 66/100\n",
      "26/26 [==============================] - 5s 194ms/step - loss: 4.7983e-04 - val_loss: 0.0011\n",
      "Epoch 67/100\n",
      "26/26 [==============================] - 5s 189ms/step - loss: 5.8621e-04 - val_loss: 7.2770e-04\n",
      "Epoch 68/100\n",
      "26/26 [==============================] - 5s 182ms/step - loss: 4.3030e-04 - val_loss: 6.9296e-04\n",
      "Epoch 69/100\n",
      "26/26 [==============================] - 4s 170ms/step - loss: 4.2707e-04 - val_loss: 7.0878e-04\n",
      "Epoch 70/100\n",
      "26/26 [==============================] - 5s 192ms/step - loss: 4.4386e-04 - val_loss: 7.0495e-04\n",
      "Epoch 71/100\n",
      "26/26 [==============================] - 5s 181ms/step - loss: 4.6863e-04 - val_loss: 0.0012\n",
      "Epoch 72/100\n",
      "26/26 [==============================] - 4s 170ms/step - loss: 5.5569e-04 - val_loss: 0.0010\n",
      "Epoch 73/100\n",
      "26/26 [==============================] - 5s 178ms/step - loss: 4.9341e-04 - val_loss: 6.7322e-04\n",
      "Epoch 74/100\n",
      "26/26 [==============================] - 5s 177ms/step - loss: 4.7579e-04 - val_loss: 6.6088e-04\n",
      "Epoch 75/100\n",
      "26/26 [==============================] - 4s 172ms/step - loss: 3.9517e-04 - val_loss: 6.4251e-04\n",
      "Epoch 76/100\n",
      "26/26 [==============================] - 4s 170ms/step - loss: 4.4610e-04 - val_loss: 7.2201e-04\n",
      "Epoch 77/100\n",
      "26/26 [==============================] - 5s 178ms/step - loss: 4.3369e-04 - val_loss: 6.4172e-04\n",
      "Epoch 78/100\n",
      "26/26 [==============================] - 5s 176ms/step - loss: 4.3355e-04 - val_loss: 7.1270e-04\n",
      "Epoch 79/100\n",
      "26/26 [==============================] - 4s 172ms/step - loss: 4.2378e-04 - val_loss: 6.4190e-04\n",
      "Epoch 80/100\n",
      "26/26 [==============================] - 5s 175ms/step - loss: 3.9081e-04 - val_loss: 7.1287e-04\n",
      "Epoch 81/100\n",
      "26/26 [==============================] - 5s 175ms/step - loss: 4.5917e-04 - val_loss: 6.3936e-04\n",
      "Epoch 82/100\n",
      "26/26 [==============================] - 4s 173ms/step - loss: 3.7731e-04 - val_loss: 6.1785e-04\n",
      "Epoch 83/100\n",
      "26/26 [==============================] - 4s 172ms/step - loss: 3.8061e-04 - val_loss: 6.9175e-04\n",
      "Epoch 84/100\n",
      "26/26 [==============================] - 5s 179ms/step - loss: 3.6952e-04 - val_loss: 5.9415e-04\n",
      "Epoch 85/100\n",
      "26/26 [==============================] - 4s 172ms/step - loss: 4.3204e-04 - val_loss: 8.8790e-04\n",
      "Epoch 86/100\n",
      "26/26 [==============================] - 5s 174ms/step - loss: 5.8157e-04 - val_loss: 6.1037e-04\n",
      "Epoch 87/100\n",
      "26/26 [==============================] - 4s 173ms/step - loss: 4.4657e-04 - val_loss: 5.8027e-04\n",
      "Epoch 88/100\n",
      "26/26 [==============================] - 5s 175ms/step - loss: 3.6046e-04 - val_loss: 5.7468e-04\n",
      "Epoch 89/100\n",
      "26/26 [==============================] - 5s 179ms/step - loss: 3.5949e-04 - val_loss: 6.1443e-04\n",
      "Epoch 90/100\n",
      "26/26 [==============================] - 4s 173ms/step - loss: 3.7288e-04 - val_loss: 5.6662e-04\n",
      "Epoch 91/100\n",
      "26/26 [==============================] - 5s 189ms/step - loss: 3.5182e-04 - val_loss: 5.4743e-04\n",
      "Epoch 92/100\n",
      "26/26 [==============================] - 4s 171ms/step - loss: 3.8270e-04 - val_loss: 8.7151e-04\n",
      "Epoch 93/100\n",
      "26/26 [==============================] - 5s 183ms/step - loss: 3.6609e-04 - val_loss: 5.6378e-04\n",
      "Epoch 94/100\n",
      "26/26 [==============================] - 5s 195ms/step - loss: 3.7415e-04 - val_loss: 6.0670e-04\n",
      "Epoch 95/100\n",
      "26/26 [==============================] - 5s 205ms/step - loss: 4.3791e-04 - val_loss: 7.1950e-04\n",
      "Epoch 96/100\n",
      "26/26 [==============================] - 5s 190ms/step - loss: 4.0275e-04 - val_loss: 5.4385e-04\n",
      "Epoch 97/100\n",
      "26/26 [==============================] - 5s 186ms/step - loss: 3.4997e-04 - val_loss: 5.2593e-04\n",
      "Epoch 98/100\n",
      "26/26 [==============================] - 5s 194ms/step - loss: 3.5698e-04 - val_loss: 5.1868e-04\n",
      "Epoch 99/100\n",
      "26/26 [==============================] - 6s 224ms/step - loss: 3.4506e-04 - val_loss: 5.3182e-04\n",
      "Epoch 100/100\n",
      "26/26 [==============================] - 5s 185ms/step - loss: 3.3605e-04 - val_loss: 5.4200e-04\n"
     ]
    },
    {
     "data": {
      "text/plain": [
       "<keras.callbacks.History at 0x274af8c8190>"
      ]
     },
     "execution_count": 143,
     "metadata": {},
     "output_type": "execute_result"
    }
   ],
   "source": [
    "#Training model with adam optimizer and mean squared error loss function\n",
    "model.compile(loss='mean_squared_error',optimizer='adam')\n",
    "model.fit(X_train,y_train,validation_data=(X_test,y_test),epochs=100,batch_size=64)"
   ]
  },
  {
   "cell_type": "code",
   "execution_count": 144,
   "id": "18b1ba6a",
   "metadata": {},
   "outputs": [
    {
     "data": {
      "text/plain": [
       "[<matplotlib.lines.Line2D at 0x274b7164c70>]"
      ]
     },
     "execution_count": 144,
     "metadata": {},
     "output_type": "execute_result"
    },
    {
     "data": {
      "image/png": "[encoded data removed]",
      "text/plain": [
       "<Figure size 432x288 with 1 Axes>"
      ]
     },
     "metadata": {
      "needs_background": "light"
     },
     "output_type": "display_data"
    }
   ],
   "source": [
    "#PLotting loss, it shows that loss has decreased significantly and model trained well\n",
    "loss = model.history.history['loss']\n",
    "plt.plot(loss)"
   ]
  },
  {
   "cell_type": "code",
   "execution_count": 145,
   "id": "3e7f2fc8",
   "metadata": {},
   "outputs": [],
   "source": [
    "#Predicitng on train and test data\n",
    "train_predict = model.predict(X_train)\n",
    "test_predict = model.predict(X_test)"
   ]
  },
  {
   "cell_type": "code",
   "execution_count": 146,
   "id": "c2d6c2d5",
   "metadata": {},
   "outputs": [],
   "source": [
    "#Inverse transform to get actual value\n",
    "train_predict = normalizer.inverse_transform(train_predict)\n",
    "test_predict = normalizer.inverse_transform(test_predict)"
   ]
  },
  {
   "cell_type": "code",
   "execution_count": 147,
   "id": "9d0543ad",
   "metadata": {},
   "outputs": [
    {
     "data": {
      "text/plain": [
       "[<matplotlib.lines.Line2D at 0x274b83dfc10>]"
      ]
     },
     "execution_count": 147,
     "metadata": {},
     "output_type": "execute_result"
    },
    {
     "data": {
      "image/png": "[encoded data removed]",
      "text/plain": [
       "<Figure size 432x288 with 1 Axes>"
      ]
     },
     "metadata": {
      "needs_background": "light"
     },
     "output_type": "display_data"
    }
   ],
   "source": [
    "#Comparing using visuals\n",
    "plt.plot(normalizer.inverse_transform(ds_scaled))\n",
    "plt.plot(train_predict)\n",
    "plt.plot(test_predict)"
   ]
  },
  {
   "cell_type": "code",
   "execution_count": 148,
   "id": "55300bae",
   "metadata": {},
   "outputs": [
    {
     "data": {
      "text/plain": [
       "numpy.ndarray"
      ]
     },
     "execution_count": 148,
     "metadata": {},
     "output_type": "execute_result"
    }
   ],
   "source": [
    "type(train_predict)"
   ]
  },
  {
   "cell_type": "code",
   "execution_count": 149,
   "id": "bf6d5613",
   "metadata": {},
   "outputs": [],
   "source": [
    "test = np.vstack((train_predict,test_predict))"
   ]
  },
  {
   "cell_type": "code",
   "execution_count": 150,
   "id": "41b272ff",
   "metadata": {
    "scrolled": true
   },
   "outputs": [
    {
     "data": {
      "text/plain": [
       "[<matplotlib.lines.Line2D at 0x274b8442340>]"
      ]
     },
     "execution_count": 150,
     "metadata": {},
     "output_type": "execute_result"
    },
    {
     "data": {
      "image/png": "[encoded data removed]",
      "text/plain": [
       "<Figure size 432x288 with 1 Axes>"
      ]
     },
     "metadata": {
      "needs_background": "light"
     },
     "output_type": "display_data"
    }
   ],
   "source": [
    "#Combining the predited data to create uniform data visualization\n",
    "plt.plot(normalizer.inverse_transform(ds_scaled))\n",
    "plt.plot(test)"
   ]
  },
  {
   "cell_type": "code",
   "execution_count": 151,
   "id": "16af9283",
   "metadata": {},
   "outputs": [
    {
     "data": {
      "text/plain": [
       "740"
      ]
     },
     "execution_count": 151,
     "metadata": {},
     "output_type": "execute_result"
    }
   ],
   "source": [
    "len(ds_test)"
   ]
  },
  {
   "cell_type": "code",
   "execution_count": 209,
   "id": "c13df7b8",
   "metadata": {},
   "outputs": [],
   "source": [
    "#Getting the last 100 days records\n",
    "fut_inp = ds_test[640:]"
   ]
  },
  {
   "cell_type": "code",
   "execution_count": 210,
   "id": "52b30579",
   "metadata": {},
   "outputs": [],
   "source": [
    "fut_inp = fut_inp.reshape(1,-1)"
   ]
  },
  {
   "cell_type": "code",
   "execution_count": 211,
   "id": "ac2686a6",
   "metadata": {},
   "outputs": [],
   "source": [
    "tmp_inp = list(fut_inp)"
   ]
  },
  {
   "cell_type": "code",
   "execution_count": 212,
   "id": "dad5024f",
   "metadata": {},
   "outputs": [
    {
     "data": {
      "text/plain": [
       "(1, 100)"
      ]
     },
     "execution_count": 212,
     "metadata": {},
     "output_type": "execute_result"
    }
   ],
   "source": [
    "fut_inp.shape"
   ]
  },
  {
   "cell_type": "code",
   "execution_count": 213,
   "id": "98042a30",
   "metadata": {},
   "outputs": [],
   "source": [
    "#Creating list of the last 100 data\n",
    "tmp_inp = tmp_inp[0].tolist()"
   ]
  },
  {
   "cell_type": "code",
   "execution_count": null,
   "id": "44799d02",
   "metadata": {},
   "outputs": [],
   "source": [
    "#Predicting next 30 days price suing the current data\n",
    "#It will predict in sliding window manner (algorithm) with stride 1\n",
    "lst_output=[]\n",
    "n_steps=100\n",
    "i=0\n",
    "while(i<60):\n",
    "    \n",
    "    if(len(tmp_inp)>100):\n",
    "        fut_inp = np.array(tmp_inp[1:])\n",
    "        fut_inp=fut_inp.reshape(1,-1)\n",
    "        fut_inp = fut_inp.reshape((1, n_steps, 1))\n",
    "        yhat = model.predict(fut_inp, verbose=0)\n",
    "        tmp_inp.extend(yhat[0].tolist())\n",
    "        tmp_inp = tmp_inp[1:]\n",
    "        lst_output.extend(yhat.tolist())\n",
    "        i=i+1\n",
    "    else:\n",
    "        fut_inp = fut_inp.reshape((1, n_steps,1))\n",
    "        yhat = model.predict(fut_inp, verbose=0)\n",
    "        tmp_inp.extend(yhat[0].tolist())\n",
    "        lst_output.extend(yhat.tolist())\n",
    "        i=i+1\n",
    "    \n",
    "\n",
    "print(lst_output)"
   ]
  },
  {
   "cell_type": "code",
   "execution_count": null,
   "id": "d49a83e5",
   "metadata": {
    "scrolled": true
   },
   "outputs": [],
   "source": [
    "len(ds_scaled)\n",
    "ds_scaled\n",
    "# scaler.scale_\n",
    "new=np.arange(1,101,1)\n",
    "pred=np.arange(101,201,1)\n"
   ]
  },
  {
   "cell_type": "code",
   "execution_count": null,
   "id": "29f84e31",
   "metadata": {},
   "outputs": [],
   "source": [
    "plt.plot(normalizer.inverse_transform(ds_scaled[1132:]))\n",
    "plt.plot(normalizer.inverse_transform(lst_output))"
   ]
  },
  {
   "cell_type": "code",
   "execution_count": 217,
   "id": "e41c9362",
   "metadata": {},
   "outputs": [],
   "source": [
    "ds_new = ds_scaled.tolist()"
   ]
  },
  {
   "cell_type": "code",
   "execution_count": 218,
   "id": "d6c8d3c1",
   "metadata": {},
   "outputs": [
    {
     "data": {
      "text/plain": [
       "2464"
      ]
     },
     "execution_count": 218,
     "metadata": {},
     "output_type": "execute_result"
    }
   ],
   "source": [
    "len(ds_new)"
   ]
  },
  {
   "cell_type": "code",
   "execution_count": 219,
   "id": "24e99607",
   "metadata": {},
   "outputs": [
    {
     "data": {
      "text/plain": [
       "[<matplotlib.lines.Line2D at 0x274bd19c760>]"
      ]
     },
     "execution_count": 219,
     "metadata": {},
     "output_type": "execute_result"
    },
    {
     "data": {
      "image/png": "[encoded data removed]",
      "text/plain": [
       "<Figure size 432x288 with 1 Axes>"
      ]
     },
     "metadata": {
      "needs_background": "light"
     },
     "output_type": "display_data"
    }
   ],
   "source": [
    "#Entends helps us to fill the missing value with approx value\n",
    "ds_new.extend(lst_output)\n",
    "plt.plot(ds_new[1200:])"
   ]
  },
  {
   "cell_type": "code",
   "execution_count": 220,
   "id": "7f04f058",
   "metadata": {},
   "outputs": [],
   "source": [
    "#Creating final data for plotting\n",
    "final_graph = normalizer.inverse_transform(ds_new).tolist()"
   ]
  },
  {
   "cell_type": "code",
   "execution_count": 221,
   "id": "2dfdef30",
   "metadata": {},
   "outputs": [
    {
     "data": {
      "text/plain": [
       "<matplotlib.legend.Legend at 0x274bcdf68e0>"
      ]
     },
     "execution_count": 221,
     "metadata": {},
     "output_type": "execute_result"
    },
    {
     "data": {
      "image/png": "[encoded data removed]",
      "text/plain": [
       "<Figure size 432x288 with 1 Axes>"
      ]
     },
     "metadata": {
      "needs_background": "light"
     },
     "output_type": "display_data"
    }
   ],
   "source": [
    "#Plotting final results with predicted value after 30 Days\n",
    "plt.plot(final_graph,)\n",
    "plt.ylabel(\"Price\")\n",
    "plt.xlabel(\"Time\")\n",
    "plt.title(\"{0} prediction of next month open\".format(stock_symbol))\n",
    "plt.axhline(y=final_graph[len(final_graph)-1], color = 'red', linestyle = ':', label = 'NEXT 30D: {0}'.format(round(float(*final_graph[len(final_graph)-1]),2)))\n",
    "plt.legend()\n",
    "\n"
   ]
  },
  {
   "cell_type": "code",
   "execution_count": null,
   "id": "5af437eb",
   "metadata": {},
   "outputs": [],
   "source": []
  },
  {
   "cell_type": "code",
   "execution_count": null,
   "id": "8c7b2852",
   "metadata": {},
   "outputs": [],
   "source": []
  }
 ],
 "metadata": {
  "kernelspec": {
   "display_name": "Python 3",
   "language": "python",
   "name": "python3"
  },
  "language_info": {
   "codemirror_mode": {
    "name": "ipython",
    "version": 3
   },
   "file_extension": ".py",
   "mimetype": "text/x-python",
   "name": "python",
   "nbconvert_exporter": "python",
   "pygments_lexer": "ipython3",
   "version": "3.8.8"
  }
 },
 "nbformat": 4,
 "nbformat_minor": 5
}
